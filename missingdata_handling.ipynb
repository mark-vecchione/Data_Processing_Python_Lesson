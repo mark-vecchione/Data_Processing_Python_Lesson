{
 "cells": [
  {
   "cell_type": "code",
   "execution_count": 22,
   "id": "9aeb1be8",
   "metadata": {},
   "outputs": [
    {
     "name": "stdout",
     "output_type": "stream",
     "text": [
      "   PassengerId  Pclass                                          Name     Sex  \\\n",
      "0          892       3                              Kelly, Mr. James    male   \n",
      "1          893       3              Wilkes, Mrs. James (Ellen Needs)  female   \n",
      "2          894       2                     Myles, Mr. Thomas Francis    male   \n",
      "3          895       3                              Wirz, Mr. Albert    male   \n",
      "4          896       3  Hirvonen, Mrs. Alexander (Helga E Lindqvist)  female   \n",
      "\n",
      "    Age  SibSp  Parch   Ticket     Fare Cabin Embarked  Survived  \n",
      "0  34.5      0      0   330911   7.8292   NaN        Q         0  \n",
      "1  47.0      1      0   363272   7.0000   NaN        S         1  \n",
      "2  62.0      0      0   240276   9.6875   NaN        Q         0  \n",
      "3  27.0      0      0   315154   8.6625   NaN        S         0  \n",
      "4  22.0      1      1  3101298  12.2875   NaN        S         1  \n",
      "PassengerId      0\n",
      "Pclass           0\n",
      "Name             0\n",
      "Sex              0\n",
      "Age             86\n",
      "SibSp            0\n",
      "Parch            0\n",
      "Ticket           0\n",
      "Fare             1\n",
      "Cabin          327\n",
      "Embarked         0\n",
      "Survived         0\n",
      "dtype: int64\n"
     ]
    }
   ],
   "source": [
    "import pandas as pd\n",
    "\n",
    "url = \"https://raw.githubusercontent.com/100daysofml/100daysofml.github.io/refs/heads/main/content/Week_03/titanic.csv\"\n",
    "titanic_data = pd.read_csv(url)\n",
    "titanic_data_original = pd.read_csv(url)\n",
    "\n",
    "print(titanic_data.head())\n",
    "print(titanic_data.isnull().sum())"
   ]
  },
  {
   "cell_type": "code",
   "execution_count": null,
   "id": "4756d2fc",
   "metadata": {},
   "outputs": [],
   "source": [
    "# titanic_data.fillna({'Age': titanic_data['Age'].median()}, inplace=True)"
   ]
  },
  {
   "cell_type": "code",
   "execution_count": null,
   "id": "f102c521",
   "metadata": {},
   "outputs": [],
   "source": [
    "# #mode imputation\n",
    "\n",
    "# embarked_mode = titanic_data['Embarked'].mode()[0]\n",
    "# #titanic_data['Embarked'].fillna(embarked_mode, inplace=True)\n",
    "# titanic_data.fillna({'Embarked': embarked_mode}, inplace=True)"
   ]
  },
  {
   "cell_type": "code",
   "execution_count": null,
   "id": "6c85dc61",
   "metadata": {},
   "outputs": [],
   "source": [
    "# #k nearest neighbor \n",
    "\n",
    "# from sklearn.impute import KNNImputer\n",
    "\n",
    "# imputer = KNNImputer(n_neighbors=3)\n",
    "# numeric_columns = titanic_data.select_dtypes(include=['float64', 'int64'])\n",
    "# titanic_data[numeric_columns.columns] = imputer.fit_transform(numeric_columns)"
   ]
  },
  {
   "cell_type": "code",
   "execution_count": 23,
   "id": "e786f6e5",
   "metadata": {},
   "outputs": [],
   "source": [
    "from sklearn.experimental import enable_iterative_imputer\n",
    "from sklearn.impute import IterativeImputer\n",
    "import numpy as np\n",
    "from sklearn.linear_model import BayesianRidge\n",
    "\n",
    "#create a copy\n",
    "titanic_data_imputed = titanic_data.copy()\n",
    "\n",
    "#Using Iterative Imputer with BayesianRidge estimator\n",
    "iterative_imputer = IterativeImputer(estimator=BayesianRidge(), missing_values=np.nan, max_iter=10, random_state=0)\n",
    "\n",
    "#Numeric columns\n",
    "numeric_columns = titanic_data.select_dtypes(include=['float64', 'int64'])\n",
    "\n",
    "#Assuming 'titanic_data' has some MNAR data\n",
    "numeric_imputed = iterative_imputer.fit_transform(numeric_columns)\n",
    "\n",
    "#Replace original data with imputed data\n",
    "titanic_data_imputed[numeric_columns.columns] = numeric_imputed"
   ]
  },
  {
   "cell_type": "code",
   "execution_count": 24,
   "id": "905ee8da",
   "metadata": {},
   "outputs": [
    {
     "data": {
      "image/png": "[encoded data removed]",
      "text/plain": [
       "<Figure size 640x480 with 1 Axes>"
      ]
     },
     "metadata": {},
     "output_type": "display_data"
    }
   ],
   "source": [
    "#Evaluating Imputation Techniques\n",
    "import matplotlib.pyplot as plt\n",
    "\n",
    "#histogram of Age before imputation\n",
    "plt.hist(titanic_data_original['Age'].dropna(), bins=20, alpha=0.5, color='blue', label='Original')\n",
    "plt.hist(titanic_data_imputed['Age'], bins=20, alpha=0.5, color='green', label=\"Imputed\")\n",
    "plt.xlabel('Age')\n",
    "plt.ylabel('Frequency')\n",
    "plt.title('Comparison of Age Distribution: OG vs. Imputed')\n",
    "plt.legend()\n",
    "plt.show()\n"
   ]
  },
  {
   "cell_type": "code",
   "execution_count": null,
   "id": "02f7004b",
   "metadata": {},
   "outputs": [],
   "source": []
  }
 ],
 "metadata": {
  "kernelspec": {
   "display_name": "Pyton (venv)",
   "language": "python",
   "name": "venv"
  },
  "language_info": {
   "codemirror_mode": {
    "name": "ipython",
    "version": 3
   },
   "file_extension": ".py",
   "mimetype": "text/x-python",
   "name": "python",
   "nbconvert_exporter": "python",
   "pygments_lexer": "ipython3",
   "version": "3.13.5"
  }
 },
 "nbformat": 4,
 "nbformat_minor": 5
}
